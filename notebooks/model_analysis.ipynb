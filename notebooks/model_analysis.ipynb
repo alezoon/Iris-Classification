{
 "cells": [
  {
   "cell_type": "code",
   "execution_count": 1,
   "id": "905f0726",
   "metadata": {},
   "outputs": [],
   "source": [
    "import sys\n",
    "import os\n",
    "sys.path.append(os.path.abspath('..'))\n",
    "\n",
    "from sklearn.datasets import load_iris\n",
    "from src.models import get_logistic_model, get_knn_model\n",
    "from src.trainer import train_model, model_evaluation, prediction"
   ]
  },
  {
   "cell_type": "markdown",
   "id": "6cf74523",
   "metadata": {},
   "source": [
    "### Load Dataset"
   ]
  },
  {
   "cell_type": "code",
   "execution_count": 2,
   "id": "3996d9fb",
   "metadata": {},
   "outputs": [],
   "source": [
    "iris = load_iris()\n",
    "X = iris.data\n",
    "y = iris.target"
   ]
  },
  {
   "cell_type": "markdown",
   "id": "2e139443",
   "metadata": {},
   "source": [
    "### Load and Train Models\n",
    "Will be using LogisticRegression and KNeighborsClassifier"
   ]
  },
  {
   "cell_type": "code",
   "execution_count": 3,
   "id": "cd405c62",
   "metadata": {},
   "outputs": [],
   "source": [
    "# Logistic Regression\n",
    "Logistic = get_logistic_model()\n",
    "Logistic, X_train, X_test, y_train, y_test = train_model(Logistic, X, y)\n",
    "\n",
    "# KNN\n",
    "KNN = get_knn_model()\n",
    "KNN, X_train, X_test, y_train, y_test = train_model(KNN, X, y)"
   ]
  },
  {
   "cell_type": "markdown",
   "id": "46ab977d",
   "metadata": {},
   "source": [
    "### KNN Evaluation"
   ]
  },
  {
   "cell_type": "code",
   "execution_count": 4,
   "id": "ffe0b870",
   "metadata": {},
   "outputs": [
    {
     "name": "stdout",
     "output_type": "stream",
     "text": [
      "              precision    recall  f1-score   support\n",
      "\n",
      "           0       1.00      1.00      1.00        10\n",
      "           1       1.00      1.00      1.00        10\n",
      "           2       1.00      1.00      1.00        10\n",
      "\n",
      "    accuracy                           1.00        30\n",
      "   macro avg       1.00      1.00      1.00        30\n",
      "weighted avg       1.00      1.00      1.00        30\n",
      "\n"
     ]
    }
   ],
   "source": [
    "acc, cm, cr = model_evaluation(KNN,X_test,y_test)\n",
    "print(cr)"
   ]
  },
  {
   "cell_type": "markdown",
   "id": "abe6ce61",
   "metadata": {},
   "source": [
    "### Logistic Evaluation"
   ]
  },
  {
   "cell_type": "code",
   "execution_count": 5,
   "id": "c9726130",
   "metadata": {},
   "outputs": [
    {
     "name": "stdout",
     "output_type": "stream",
     "text": [
      "              precision    recall  f1-score   support\n",
      "\n",
      "           0       1.00      1.00      1.00        10\n",
      "           1       1.00      0.90      0.95        10\n",
      "           2       0.91      1.00      0.95        10\n",
      "\n",
      "    accuracy                           0.97        30\n",
      "   macro avg       0.97      0.97      0.97        30\n",
      "weighted avg       0.97      0.97      0.97        30\n",
      "\n"
     ]
    }
   ],
   "source": [
    "acc, cm, cr = model_evaluation(Logistic, X_test, y_test)\n",
    "print(cr)"
   ]
  },
  {
   "cell_type": "markdown",
   "id": "69a9fd18",
   "metadata": {},
   "source": [
    "### Comparison\n",
    "While both models have great performance, KNN has a perfect score compared to Logistic.\n",
    "\n",
    "KNN = 100%, Logistic = 97%\n",
    "\n",
    "This is most likely due to stratify=y, because when testing without the parameter, both have gotten 100%"
   ]
  }
 ],
 "metadata": {
  "kernelspec": {
   "display_name": "Python 3",
   "language": "python",
   "name": "python3"
  },
  "language_info": {
   "codemirror_mode": {
    "name": "ipython",
    "version": 3
   },
   "file_extension": ".py",
   "mimetype": "text/x-python",
   "name": "python",
   "nbconvert_exporter": "python",
   "pygments_lexer": "ipython3",
   "version": "3.13.7"
  }
 },
 "nbformat": 4,
 "nbformat_minor": 5
}
